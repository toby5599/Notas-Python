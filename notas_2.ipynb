{
 "cells": [
  {
   "attachments": {},
   "cell_type": "markdown",
   "metadata": {},
   "source": [
    "# Python avanzando"
   ]
  },
  {
   "attachments": {},
   "cell_type": "markdown",
   "metadata": {},
   "source": [
    "## Excepciones"
   ]
  },
  {
   "attachments": {},
   "cell_type": "markdown",
   "metadata": {},
   "source": [
    "##### TRY, EXCEPT, BREAK"
   ]
  },
  {
   "cell_type": "code",
   "execution_count": 16,
   "metadata": {},
   "outputs": [],
   "source": [
    "# esta funcion solamente va a parar cuando le pasemos numeros no texto\n",
    "\n",
    "def sumar_dos():\n",
    "    while True:   # while para se ejecute hasta que le pasemos numeros\n",
    "        a = input(\"numero 1: \")\n",
    "        b = input(\"numero 2: \")\n",
    "        try:\n",
    "            resultado = int(a) + int(b)\n",
    "        except:\n",
    "            print(\"hubo un error, me pasaste cualquier cosa\")\n",
    "        else:\n",
    "            break\n",
    "    return resultado"
   ]
  },
  {
   "cell_type": "code",
   "execution_count": 8,
   "metadata": {},
   "outputs": [
    {
     "name": "stdout",
     "output_type": "stream",
     "text": [
      "60\n"
     ]
    }
   ],
   "source": [
    "#le pase numeros\n",
    "print(sumar_dos())"
   ]
  },
  {
   "attachments": {},
   "cell_type": "markdown",
   "metadata": {},
   "source": [
    "##### FINALLY\n",
    "El finally siempre se va a ejecutar no importa si se cumple try o que se ejecute except"
   ]
  },
  {
   "cell_type": "code",
   "execution_count": 20,
   "metadata": {},
   "outputs": [],
   "source": [
    "def sumar_dos():\n",
    "    while True:   # while para se ejecute hasta que le pasemos numeros\n",
    "        a = input(\"numero 1: \")\n",
    "        b = input(\"numero 2: \")\n",
    "        try:\n",
    "            resultado = int(a) + int(b)\n",
    "        except:\n",
    "            print(\"hubo un error, me pasaste cualquier cosa\")\n",
    "        else:\n",
    "            break\n",
    "        finally:\n",
    "            print(\"me ejecuto igual\")\n",
    "    return resultado"
   ]
  },
  {
   "cell_type": "code",
   "execution_count": null,
   "metadata": {},
   "outputs": [],
   "source": [
    "print(sumar_dos())"
   ]
  },
  {
   "attachments": {},
   "cell_type": "markdown",
   "metadata": {},
   "source": [
    "##### Creacion de una excepcion (POO)"
   ]
  },
  {
   "cell_type": "code",
   "execution_count": 23,
   "metadata": {},
   "outputs": [
    {
     "name": "stdout",
     "output_type": "stream",
     "text": [
      "cometiste el siguiente error te equivocaste\n",
      "como vas a cometer ese error?\n"
     ]
    }
   ],
   "source": [
    "# creando mi propia excepcion\n",
    "class MiExcepcion(Exception):\n",
    "    def __init__(self,error):\n",
    "        print(f\"cometiste el siguiente error {error}\")\n",
    "\n",
    "#lanzando mi propia excepcion\n",
    "raise MiExcepcion(\"dividiste por cero\") #aca ponemos el tipo de error\n",
    "\n",
    "#manejandola\n",
    "try:\n",
    "    raise MiExcepcion(\"te equivocaste\")\n",
    "except:\n",
    "    print(\"como vas a cometer ese error?\")"
   ]
  }
 ],
 "metadata": {
  "kernelspec": {
   "display_name": "Python 3",
   "language": "python",
   "name": "python3"
  },
  "language_info": {
   "codemirror_mode": {
    "name": "ipython",
    "version": 3
   },
   "file_extension": ".py",
   "mimetype": "text/x-python",
   "name": "python",
   "nbconvert_exporter": "python",
   "pygments_lexer": "ipython3",
   "version": "3.11.0"
  },
  "orig_nbformat": 4
 },
 "nbformat": 4,
 "nbformat_minor": 2
}
