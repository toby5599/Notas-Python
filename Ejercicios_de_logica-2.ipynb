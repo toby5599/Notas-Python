{
 "cells": [
  {
   "cell_type": "code",
   "execution_count": 13,
   "id": "eb168534-84cf-41d9-a9af-50a3fba734ba",
   "metadata": {},
   "outputs": [
    {
     "name": "stdout",
     "output_type": "stream",
     "text": [
      "[4, 6, 4]\n"
     ]
    }
   ],
   "source": [
    "#Escribir una función mas_larga() que tome una lista de palabras y devuelva la mas larga.\n",
    "\n",
    "def mas_larga(cadena):\n",
    "    lista_cantidad = []\n",
    "    for palabra in cadena:\n",
    "        cantidad = len(palabra)\n",
    "        lista_cantidad.append(cantidad)\n",
    "    print(lista_cantidad)\n",
    "    \n",
    "mas_larga([\"hola\",\"tobias\",\"papa\"])"
   ]
  },
  {
   "cell_type": "code",
   "execution_count": null,
   "id": "e2758f68-41d3-49d1-a7cc-904ca55c2a50",
   "metadata": {},
   "outputs": [],
   "source": []
  }
 ],
 "metadata": {
  "kernelspec": {
   "display_name": "Python 3 (ipykernel)",
   "language": "python",
   "name": "python3"
  },
  "language_info": {
   "codemirror_mode": {
    "name": "ipython",
    "version": 3
   },
   "file_extension": ".py",
   "mimetype": "text/x-python",
   "name": "python",
   "nbconvert_exporter": "python",
   "pygments_lexer": "ipython3",
   "version": "3.11.0"
  }
 },
 "nbformat": 4,
 "nbformat_minor": 5
}
